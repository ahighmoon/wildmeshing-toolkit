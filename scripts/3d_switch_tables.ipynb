{
 "cells": [
  {
   "cell_type": "code",
   "execution_count": 21,
   "metadata": {},
   "outputs": [
    {
     "data": {
      "text/plain": [
       "4"
      ]
     },
     "execution_count": 21,
     "metadata": {},
     "output_type": "execute_result"
    }
   ],
   "source": [
    "# The index convenction is arbitrary, \n",
    "# orientation is not important here\n",
    "\n",
    "vertices = [{0},{1},{2},{3}]\n",
    "\n",
    "edges = [\n",
    "        {0,1},\n",
    "        {0,2},\n",
    "        {0,3},\n",
    "        {1,2},\n",
    "        {1,3},\n",
    "        {2,3}\n",
    "]\n",
    "\n",
    "faces = [\n",
    "        {1,2,3},\n",
    "        {0,3,2},\n",
    "        {0,1,3},\n",
    "        {0,2,1}\n",
    "    ]\n",
    "\n",
    "faces_oriented = [\n",
    "        [1,2,3],\n",
    "        [0,3,2],\n",
    "        [0,1,3],\n",
    "        [0,2,1]\n",
    "    ]\n",
    "\n",
    "\n",
    "s = [vertices,edges,faces]\n",
    "len(s[0])\n"
   ]
  },
  {
   "cell_type": "code",
   "execution_count": 22,
   "metadata": {},
   "outputs": [],
   "source": [
    "# Generates all possible tuples, note that some might not be valid\n",
    "def all_tuples(s):\n",
    "    return [[i,j,k] for i in range(len(s[0])) for j in range(len(s[1])) for k in range(len(s[2]))]\n",
    "\n",
    "# Check if a tuple is valid, i.e. if the simplex of dimension d-1 is a face of a simplex of dimension d\n",
    "def valid_tuple(t,s):\n",
    "    return s[0][t[0]].issubset(s[1][t[1]]) and s[1][t[1]].issubset(s[2][t[2]]) \n",
    "\n",
    "# Check if a tuple is ccw\n",
    "def ccw_tuple(t,s):\n",
    "    assert(valid_tuple(t,s))\n",
    "    #B = [0,1,2,3,0,1,2,3,0,1,2,3,0,1,2,3]\n",
    "    oriented_face = faces_oriented[t[2]]*3\n",
    "    edge = s[1][t[1]]\n",
    "    vertex = s[0][t[0]]\n",
    "    e1 = edge - vertex\n",
    "    B = oriented_face\n",
    "    A = [list(vertex)[0], list(e1)[0]]\n",
    "    return any(A == B[i:i + len(A)] for i in range(len(B)-len(A) + 1)) # check for sublist\n",
    "\n",
    "# len([t for t in all_tuples(s) if (valid_tuple(t,s) and ccw_tuple(t,s))])\n"
   ]
  },
  {
   "cell_type": "code",
   "execution_count": 23,
   "metadata": {},
   "outputs": [],
   "source": [
    "# Enumerates all valid tuples similar to t, but with a different value in the slot d\n",
    "# There must be 2 of them, and this function returns the one that is different than t\n",
    "def switch(t,d,s):\n",
    "    candidates = []\n",
    "    for i in range(len(s[d])):\n",
    "        t2 = t.copy()\n",
    "        t2[d] = i\n",
    "        candidates.append(t2)\n",
    "    valid = [x for x in candidates if valid_tuple(x,s)]\n",
    "    assert(len(valid) == 2)\n",
    "    valid.remove(t)\n",
    "    assert(len(valid) == 1)\n",
    "    return valid[0]"
   ]
  },
  {
   "cell_type": "code",
   "execution_count": 24,
   "metadata": {},
   "outputs": [],
   "source": [
    "def list_to_array(list_of_lists,name):\n",
    "    # Get the number of rows and columns in the list of lists\n",
    "    rows = len(list_of_lists)\n",
    "    cols = len(list_of_lists[0])\n",
    "\n",
    "    # Create the C++ code for the static array of arrays\n",
    "    cplusplus_code = \"static int \" + name +\"[\" + str(rows) + \"][\" + str(cols) + \"] = {\\n\"\n",
    "\n",
    "    # Loop through each row in the list of lists\n",
    "    for row in list_of_lists:\n",
    "        # Add the opening brace for the row\n",
    "        cplusplus_code += \"  {\"\n",
    "\n",
    "        # Loop through each element in the row\n",
    "        for element in row:\n",
    "            # Add the element to the row\n",
    "            cplusplus_code += str(element) + \", \"\n",
    "\n",
    "        # Remove the trailing comma and space from the row\n",
    "        cplusplus_code = cplusplus_code[:-2]\n",
    "\n",
    "        # Add the closing brace for the row\n",
    "        cplusplus_code += \"},\\n\"\n",
    "\n",
    "    # Remove the trailing comma and newline from the C++ code\n",
    "    cplusplus_code = cplusplus_code[:-2] + \"\\n};\\n\"\n",
    "\n",
    "    return cplusplus_code"
   ]
  },
  {
   "cell_type": "code",
   "execution_count": 25,
   "metadata": {},
   "outputs": [],
   "source": [
    "# Builds a table for the switch operation of dimension d\n",
    "def table(d,name,s):\n",
    "    # Generates a table for switch_vertex\n",
    "    sv = all_tuples(s)\n",
    "\n",
    "    for i in range(len(sv)):\n",
    "        if not valid_tuple(sv[i],s):\n",
    "            sv[i] = [-1,-1,-1]\n",
    "        else:\n",
    "            sv[i] = switch(sv[i],d,s)\n",
    "\n",
    "    return list_to_array(sv,name)"
   ]
  },
  {
   "cell_type": "code",
   "execution_count": 26,
   "metadata": {},
   "outputs": [],
   "source": [
    "# Builds a table for the switch operation of dimension d\n",
    "def table_ccw(name,s):\n",
    "    # Generates a table for switch_vertex\n",
    "    sv = all_tuples(s)\n",
    "    out = [-1 for i in sv]\n",
    "\n",
    "    for i in range(len(sv)):\n",
    "        if not valid_tuple(sv[i],s):\n",
    "            out[i] = [-1]\n",
    "        else:\n",
    "            if ccw_tuple(sv[i],s):\n",
    "                out[i] = [1]\n",
    "            else:\n",
    "                out[i] = [0]\n",
    "            \n",
    "    return list_to_array(out,name)\n",
    "\n",
    "# table_ccw(\"auto_3d_table_ccw\",s)"
   ]
  },
  {
   "cell_type": "code",
   "execution_count": 27,
   "metadata": {},
   "outputs": [],
   "source": [
    "def table_complete_tuple(name,d,s):\n",
    "    # Generates a table for switch_vertex\n",
    "    sv = [t for t in all_tuples(s) if (valid_tuple(t,s) and ccw_tuple(t,s))]\n",
    "    out = []\n",
    "    for c in range(len(s[d])):\n",
    "        for i in range(len(sv)):\n",
    "            if c == sv[i][d]:\n",
    "                out.append(sv[i])\n",
    "                break\n",
    "    \n",
    "    assert(len(out) == len(s[d]))\n",
    "            \n",
    "    return list_to_array(out,name)\n"
   ]
  },
  {
   "cell_type": "code",
   "execution_count": 29,
   "metadata": {},
   "outputs": [],
   "source": [
    "text_file = open(\"../src/wmtk/autogen/autogenerated_3d_tables.hpp\", \"w\")\n",
    "text_file.write('// Autogenerated by 3d_switch_tables.ipynb\\n\\n')\n",
    "text_file.write('namespace wmtk { namespace autogen {\\n')\n",
    "text_file.write(list_to_array(edges,\"auto_3d_edges\"))\n",
    "text_file.write(list_to_array(faces,\"auto_3d_faces\"))\n",
    "text_file.write(table(0,\"auto_3d_table_vertex\",s))\n",
    "text_file.write(table(1,\"auto_3d_table_edge\",s))\n",
    "text_file.write(table(2,\"auto_3d_table_face\",s))\n",
    "text_file.write(table_ccw(\"auto_3d_table_ccw\",s))\n",
    "text_file.write(table_complete_tuple(\"auto_3d_table_complete_vertex\",0,s))\n",
    "text_file.write(table_complete_tuple(\"auto_3d_table_complete_edge\",1,s))\n",
    "text_file.write(table_complete_tuple(\"auto_3d_table_complete_face\",2,s))\n",
    "\n",
    "text_file.write(\"}}\")\n",
    "\n",
    "text_file.close()"
   ]
  },
  {
   "cell_type": "code",
   "execution_count": null,
   "metadata": {},
   "outputs": [],
   "source": []
  }
 ],
 "metadata": {
  "kernelspec": {
   "display_name": "Python 3",
   "language": "python",
   "name": "python3"
  },
  "language_info": {
   "codemirror_mode": {
    "name": "ipython",
    "version": 3
   },
   "file_extension": ".py",
   "mimetype": "text/x-python",
   "name": "python",
   "nbconvert_exporter": "python",
   "pygments_lexer": "ipython3",
   "version": "3.10.6"
  },
  "orig_nbformat": 4
 },
 "nbformat": 4,
 "nbformat_minor": 2
}
